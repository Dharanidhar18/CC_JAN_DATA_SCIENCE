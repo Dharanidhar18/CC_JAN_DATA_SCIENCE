{
  "nbformat": 4,
  "nbformat_minor": 0,
  "metadata": {
    "colab": {
      "private_outputs": true,
      "provenance": []
    },
    "kernelspec": {
      "name": "python3",
      "display_name": "Python 3"
    },
    "language_info": {
      "name": "python"
    }
  },
  "cells": [
    {
      "cell_type": "code",
      "execution_count": null,
      "metadata": {
        "id": "cIZ7ByOOicNy"
      },
      "outputs": [],
      "source": [
        "!pip install yfinance"
      ]
    },
    {
      "cell_type": "code",
      "source": [
        "import yfinance as yf\n",
        "import numpy as np\n",
        "import pandas as pd\n",
        "import tensorflow as tf"
      ],
      "metadata": {
        "id": "S2-kWSCCjVb_"
      },
      "execution_count": null,
      "outputs": []
    },
    {
      "cell_type": "code",
      "source": [
        "data = yf.download(\"GOOGL\" , start = \"2018-01-01\" , interval = '1d')"
      ],
      "metadata": {
        "id": "ETL9BENhjYxK"
      },
      "execution_count": null,
      "outputs": []
    },
    {
      "cell_type": "code",
      "source": [
        "data.shape"
      ],
      "metadata": {
        "id": "TqouckSujZBI"
      },
      "execution_count": null,
      "outputs": []
    },
    {
      "cell_type": "code",
      "source": [
        "data.head(3)"
      ],
      "metadata": {
        "id": "iMaK2zr5jZD9"
      },
      "execution_count": null,
      "outputs": []
    },
    {
      "cell_type": "code",
      "source": [
        "data.sort_index(inplace = True)"
      ],
      "metadata": {
        "id": "XF-vCOoUjZGu"
      },
      "execution_count": null,
      "outputs": []
    },
    {
      "cell_type": "code",
      "source": [
        "data = data.loc[~data.index.duplicated(keep='first')]"
      ],
      "metadata": {
        "id": "vB29uF2rjZJF"
      },
      "execution_count": null,
      "outputs": []
    },
    {
      "cell_type": "code",
      "source": [
        "data.tail(3)"
      ],
      "metadata": {
        "id": "nwJbDGAhjZMc"
      },
      "execution_count": null,
      "outputs": []
    },
    {
      "cell_type": "code",
      "source": [
        "data.isnull().sum()"
      ],
      "metadata": {
        "id": "35GYoZ5ekU5H"
      },
      "execution_count": null,
      "outputs": []
    },
    {
      "cell_type": "code",
      "source": [
        "data.describe()"
      ],
      "metadata": {
        "id": "go_anMarkVEU"
      },
      "execution_count": null,
      "outputs": []
    },
    {
      "cell_type": "code",
      "source": [
        "import plotly.graph_objects as go\n",
        "\n",
        "# Check the trend in Closing Values \n",
        "fig = go.Figure()\n",
        "\n",
        "fig.add_trace(go.Scatter(x = data.index , y = data['Close'] , mode = 'lines'))\n",
        "fig.update_layout(height = 500 , width = 900, \n",
        "                  xaxis_title='Date' , yaxis_title='Close')\n",
        "fig.show()"
      ],
      "metadata": {
        "id": "ng9eoSCOkVGg"
      },
      "execution_count": null,
      "outputs": []
    },
    {
      "cell_type": "code",
      "source": [
        "# Check the trend in Volume Traded\n",
        "fig = go.Figure()\n",
        "\n",
        "fig.add_trace(go.Scatter(x = data.index , y = data['Volume'] , mode = 'lines'))\n",
        "fig.update_layout(height = 500 , width = 900, \n",
        "                  xaxis_title='Date' , yaxis_title='Volume')\n",
        "fig.show()"
      ],
      "metadata": {
        "id": "neeRpyDZkVKC"
      },
      "execution_count": null,
      "outputs": []
    },
    {
      "cell_type": "code",
      "source": [
        "from sklearn.preprocessing import MinMaxScaler \n",
        "import pickle \n",
        "from tqdm.notebook import tnrange"
      ],
      "metadata": {
        "id": "WMV06DSBlKRh"
      },
      "execution_count": null,
      "outputs": []
    },
    {
      "cell_type": "code",
      "source": [
        "# Filter only required data \n",
        "data = data[['Close' , 'Volume']]\n",
        "data.head(3)"
      ],
      "metadata": {
        "id": "KwxxKjAzlzfl"
      },
      "execution_count": null,
      "outputs": []
    },
    {
      "cell_type": "code",
      "source": [
        "# Confirm the Testing Set length \n",
        "test_length = data[(data.index >= '2020-09-01')].shape[0]"
      ],
      "metadata": {
        "id": "tZbBw8Prl1b0"
      },
      "execution_count": null,
      "outputs": []
    },
    {
      "cell_type": "code",
      "source": [
        "def CreateFeatures_and_Targets(data, feature_length):\n",
        "    X = []\n",
        "    Y = []\n",
        "\n",
        "    for i in tnrange(len(data) - feature_length): \n",
        "        X.append(data.iloc[i : i + feature_length,:].values)\n",
        "        Y.append(data[\"Close\"].values[i+feature_length])\n",
        "\n",
        "    X = np.array(X)\n",
        "    Y = np.array(Y)\n",
        "\n",
        "    return X , Y"
      ],
      "metadata": {
        "id": "zWJdYa1Hl4oy"
      },
      "execution_count": null,
      "outputs": []
    },
    {
      "cell_type": "code",
      "source": [
        "X , Y = CreateFeatures_and_Targets(data , 32)"
      ],
      "metadata": {
        "id": "I1Vcg31Il5nm"
      },
      "execution_count": null,
      "outputs": []
    },
    {
      "cell_type": "code",
      "source": [
        "# Check the shapes\n",
        "X.shape , Y.shape"
      ],
      "metadata": {
        "id": "dW6w5TCul7hq"
      },
      "execution_count": null,
      "outputs": []
    },
    {
      "cell_type": "code",
      "source": [
        "Xtrain , Xtest , Ytrain , Ytest = X[:-test_length] , X[-test_length:] , Y[:-test_length] , Y[-test_length:]"
      ],
      "metadata": {
        "id": "9CQj-30xl-Wq"
      },
      "execution_count": null,
      "outputs": []
    },
    {
      "cell_type": "code",
      "source": [
        "# Check Training Dataset Shape \n",
        "Xtrain.shape , Ytrain.shape"
      ],
      "metadata": {
        "id": "BroAhY-jmAOh"
      },
      "execution_count": null,
      "outputs": []
    },
    {
      "cell_type": "code",
      "source": [
        "# Check Testing Dataset Shape\n",
        "Xtest.shape , Ytest.shape"
      ],
      "metadata": {
        "id": "DsvmRnedmCzt"
      },
      "execution_count": null,
      "outputs": []
    },
    {
      "cell_type": "code",
      "source": [
        "# Create a Scaler to Scale Vectors with Multiple Dimensions \n",
        "class MultiDimensionScaler():\n",
        "    def __init__(self):\n",
        "        self.scalers = []\n",
        "\n",
        "    def fit_transform(self , X):\n",
        "        total_dims = X.shape[2]\n",
        "        for i in range(total_dims):\n",
        "            Scaler = MinMaxScaler()\n",
        "            X[:, :, i] = Scaler.fit_transform(X[:, :, i])\n",
        "            self.scalers.append(Scaler)\n",
        "        return X\n",
        "\n",
        "    def transform(self , X):\n",
        "        for i in range(X.shape[2]):\n",
        "            X[:, :, i] = self.scalers[i].transform(X[:,:,i])\n",
        "        return X "
      ],
      "metadata": {
        "id": "g9NViFuFmEyI"
      },
      "execution_count": null,
      "outputs": []
    },
    {
      "cell_type": "code",
      "source": [
        "Feature_Scaler = MultiDimensionScaler()\n",
        "Xtrain = Feature_Scaler.fit_transform(Xtrain)\n",
        "Xtest = Feature_Scaler.transform(Xtest)"
      ],
      "metadata": {
        "id": "jZ4ExZszmIck"
      },
      "execution_count": null,
      "outputs": []
    },
    {
      "cell_type": "code",
      "source": [
        "Target_Scaler = MinMaxScaler()\n",
        "Ytrain = Target_Scaler.fit_transform(Ytrain.reshape(-1,1))\n",
        "Ytest = Target_Scaler.transform(Ytest.reshape(-1,1))"
      ],
      "metadata": {
        "id": "3T8Mc55imKJx"
      },
      "execution_count": null,
      "outputs": []
    },
    {
      "cell_type": "code",
      "source": [
        "def save_object(obj , name : str):\n",
        "    pickle_out = open(f\"{name}.pck\",\"wb\")\n",
        "    pickle.dump(obj, pickle_out)\n",
        "    pickle_out.close()\n",
        "\n",
        "def load_object(name : str):\n",
        "    pickle_in = open(f\"{name}.pck\",\"rb\")\n",
        "    data = pickle.load(pickle_in)\n",
        "    return data"
      ],
      "metadata": {
        "id": "YvTDq-thmLv1"
      },
      "execution_count": null,
      "outputs": []
    },
    {
      "cell_type": "code",
      "source": [
        "# Save your objects for future purposes \n",
        "save_object(Feature_Scaler , \"Feature_Scaler\")\n",
        "save_object(Target_Scaler , \"Target_Scaler\")"
      ],
      "metadata": {
        "id": "rOAqW4MqmNnX"
      },
      "execution_count": null,
      "outputs": []
    },
    {
      "cell_type": "code",
      "source": [
        "from tensorflow.keras.callbacks import ModelCheckpoint , ReduceLROnPlateau\n",
        "\n",
        "save_best = ModelCheckpoint(\"best_weights.h5\", monitor='val_loss', save_best_only=True, save_weights_only=True)\n",
        "reduce_lr = ReduceLROnPlateau(monitor='val_loss', factor=0.25,patience=4, min_lr=0.00001,verbose = 1)"
      ],
      "metadata": {
        "id": "qjjj5UIhmQGH"
      },
      "execution_count": null,
      "outputs": []
    },
    {
      "cell_type": "code",
      "source": [
        "from tensorflow.keras.models import Sequential\n",
        "from tensorflow.keras.layers import Dense , Dropout , LSTM , Bidirectional\n",
        "\n",
        "model = Sequential()\n",
        "\n",
        "model.add(Bidirectional(LSTM(512 ,return_sequences=True , recurrent_dropout=0.1, input_shape=(32, 2))))\n",
        "model.add(LSTM(256 ,recurrent_dropout=0.1))\n",
        "model.add(Dropout(0.3))\n",
        "model.add(Dense(64 , activation='elu'))\n",
        "model.add(Dropout(0.3))\n",
        "model.add(Dense(32 , activation='elu'))\n",
        "model.add(Dense(1 , activation='linear'))"
      ],
      "metadata": {
        "id": "UYIhhNnImSUx"
      },
      "execution_count": null,
      "outputs": []
    },
    {
      "cell_type": "code",
      "source": [
        "#optimizer = tf.keras.optimizers.Adam(learning_rate=0.002)\n",
        "optimizer = tf.keras.optimizers.SGD(learning_rate = 0.002)\n",
        "model.compile(loss='mse', optimizer=optimizer)"
      ],
      "metadata": {
        "id": "WVCnTTe1mYb6"
      },
      "execution_count": null,
      "outputs": []
    },
    {
      "cell_type": "code",
      "source": [
        "history = model.fit(Xtrain, Ytrain,epochs=10,batch_size = 1,verbose=1,shuffle=False ,validation_data=(Xtest , Ytest),callbacks=[reduce_lr , save_best])"
      ],
      "metadata": {
        "id": "97yx-lBLmbdK"
      },
      "execution_count": null,
      "outputs": []
    },
    {
      "cell_type": "code",
      "source": [
        "# Checking the model Structure \n",
        "model.summary()"
      ],
      "metadata": {
        "id": "tMBbb_JLmmg5"
      },
      "execution_count": null,
      "outputs": []
    },
    {
      "cell_type": "code",
      "source": [
        "# Load the best weights\n",
        "model.load_weights(\"best_weights.h5\")"
      ],
      "metadata": {
        "id": "f7Lq6QXWmpgx"
      },
      "execution_count": null,
      "outputs": []
    },
    {
      "cell_type": "code",
      "source": [
        "Predictions = model.predict(Xtest)"
      ],
      "metadata": {
        "id": "cyvHBYQ9mpwM"
      },
      "execution_count": null,
      "outputs": []
    },
    {
      "cell_type": "code",
      "source": [
        "Predictions = Target_Scaler.inverse_transform(Predictions)\n",
        "Actual = Target_Scaler.inverse_transform(Ytest)"
      ],
      "metadata": {
        "id": "WcQJEdTlmpys"
      },
      "execution_count": null,
      "outputs": []
    },
    {
      "cell_type": "code",
      "source": [
        "Predictions = np.squeeze(Predictions , axis = 1)\n",
        "Actual = np.squeeze(Actual , axis = 1)"
      ],
      "metadata": {
        "id": "nNbOFa6bmp2C"
      },
      "execution_count": null,
      "outputs": []
    },
    {
      "cell_type": "code",
      "source": [
        "# Creating Sample Test Dataframe\n",
        "test_dataframe_dict = {'Actual' : list(Actual) , 'Predicted' : list(Predictions)}\n",
        "test_df = pd.DataFrame.from_dict(test_dataframe_dict)\n",
        "\n",
        "test_df.index = data.index[-test_length:]"
      ],
      "metadata": {
        "id": "4p7OVLeUmwio"
      },
      "execution_count": null,
      "outputs": []
    },
    {
      "cell_type": "code",
      "source": [
        "test_df.head()"
      ],
      "metadata": {
        "id": "VOzapSl2mxBl"
      },
      "execution_count": null,
      "outputs": []
    },
    {
      "cell_type": "code",
      "source": [
        "# Check the trend in Volume Traded\n",
        "fig = go.Figure()\n",
        "\n",
        "fig.add_trace(go.Scatter(x = test_df.index , y = Actual , mode = 'lines' , name='Actual'))\n",
        "fig.add_trace(go.Scatter(x = test_df.index , y = Predictions , mode = 'lines' , name='Predicted'))\n",
        "fig.show()"
      ],
      "metadata": {
        "id": "NFldVKP2mxEC"
      },
      "execution_count": null,
      "outputs": []
    },
    {
      "cell_type": "code",
      "source": [
        "Total_features = np.concatenate((Xtrain , Xtest) , axis = 0)"
      ],
      "metadata": {
        "id": "QgtlEMuSmxGU"
      },
      "execution_count": null,
      "outputs": []
    },
    {
      "cell_type": "code",
      "source": [
        "Total_Targets = np.concatenate((Ytrain , Ytest) , axis = 0)"
      ],
      "metadata": {
        "id": "NAuold9LmxKH"
      },
      "execution_count": null,
      "outputs": []
    },
    {
      "cell_type": "code",
      "source": [
        "Predictions = model.predict(Total_features)"
      ],
      "metadata": {
        "id": "xg9GMYocnESt"
      },
      "execution_count": null,
      "outputs": []
    },
    {
      "cell_type": "code",
      "source": [
        "Predictions = Target_Scaler.inverse_transform(Predictions)\n",
        "Actual = Target_Scaler.inverse_transform(Total_Targets)"
      ],
      "metadata": {
        "id": "PVCRNadPnEVL"
      },
      "execution_count": null,
      "outputs": []
    },
    {
      "cell_type": "code",
      "source": [
        "Predictions = np.squeeze(Predictions , axis = 1)\n",
        "Actual = np.squeeze(Actual , axis = 1)"
      ],
      "metadata": {
        "id": "ZzqtBTMwnEXw"
      },
      "execution_count": null,
      "outputs": []
    },
    {
      "cell_type": "code",
      "source": [
        "# Check the trend in Volume Traded\n",
        "fig = go.Figure()\n",
        "\n",
        "fig.add_trace(go.Scatter(x = data.index , y = Actual , mode = 'lines' , name='Actual'))\n",
        "fig.add_trace(go.Scatter(x = data.index , y = Predictions , mode = 'lines' , name='Predicted'))\n",
        "fig.show()"
      ],
      "metadata": {
        "id": "5fgXG67YnEak"
      },
      "execution_count": null,
      "outputs": []
    }
  ]
}